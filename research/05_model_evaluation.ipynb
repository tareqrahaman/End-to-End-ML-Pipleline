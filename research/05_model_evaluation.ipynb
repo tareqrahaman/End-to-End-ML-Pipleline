{
 "cells": [
  {
   "cell_type": "code",
   "execution_count": 1,
   "id": "96482cf1",
   "metadata": {},
   "outputs": [],
   "source": [
    "import os"
   ]
  },
  {
   "cell_type": "code",
   "execution_count": 2,
   "id": "9b1278dc",
   "metadata": {},
   "outputs": [
    {
     "data": {
      "text/plain": [
       "'d:\\\\documents\\\\Code\\\\Python\\\\End-to-End-ML-Pipleline\\\\research'"
      ]
     },
     "execution_count": 2,
     "metadata": {},
     "output_type": "execute_result"
    }
   ],
   "source": [
    "%pwd"
   ]
  },
  {
   "cell_type": "code",
   "execution_count": 3,
   "id": "f5d92287",
   "metadata": {},
   "outputs": [],
   "source": [
    "os.chdir(\"../\")"
   ]
  },
  {
   "cell_type": "code",
   "execution_count": 4,
   "id": "eeb294ba",
   "metadata": {},
   "outputs": [
    {
     "data": {
      "text/plain": [
       "'d:\\\\documents\\\\Code\\\\Python\\\\End-to-End-ML-Pipleline'"
      ]
     },
     "execution_count": 4,
     "metadata": {},
     "output_type": "execute_result"
    }
   ],
   "source": [
    "%pwd"
   ]
  },
  {
   "cell_type": "code",
   "execution_count": null,
   "id": "c0b801fb",
   "metadata": {},
   "outputs": [],
   "source": [
    "from dataclasses import dataclass\n",
    "from pathlib import Path\n",
    "\n",
    "@dataclass(frozen = True)\n",
    "class ModelEvaluationConfig:\n",
    "  root_dir: Path\n",
    "  test_data_path: Path\n",
    "  model_path: Path\n",
    "  metric_file_name: Path\n",
    "  target_column: str"
   ]
  },
  {
   "cell_type": "code",
   "execution_count": 7,
   "id": "1a0365fd",
   "metadata": {},
   "outputs": [],
   "source": [
    "from mlProject.constants import *\n",
    "from mlProject.utils.common import read_yaml, create_directories, save_json"
   ]
  },
  {
   "cell_type": "code",
   "execution_count": 18,
   "id": "01d09b3e",
   "metadata": {},
   "outputs": [],
   "source": [
    "class ConfigurationManager:\n",
    "  def __init__(self,\n",
    "      config_filepath = CONFIG_FILE_PATH,\n",
    "      params_filepath = PARAMS_FILE_PATH,\n",
    "      schema_filepath = SCHEMA_FILE_PATH):\n",
    "\n",
    "        self.config = read_yaml(config_filepath)\n",
    "        self.params = read_yaml(params_filepath)\n",
    "        self.schema = read_yaml(schema_filepath)\n",
    "\n",
    "        create_directories([self.config.artifacts_root])\n",
    "  \n",
    "  def get_model_evaluation_config(self) -> ModelEvaluationConfig:\n",
    "    config = self.config.model_evaluation\n",
    "    schema = self.schema.TARGET_COLUMN\n",
    "\n",
    "    create_directories([config.root_dir])\n",
    "\n",
    "    model_evaluation_config = ModelEvaluationConfig(\n",
    "      root_dir = config.root_dir,\n",
    "      test_data_path = config.test_data_path,\n",
    "      model_path = config.model_path,\n",
    "      metric_file_name = config.metric_file_name,\n",
    "      target_column = schema.name\n",
    "    )\n",
    "\n",
    "    return model_evaluation_config"
   ]
  },
  {
   "cell_type": "code",
   "execution_count": 11,
   "id": "0b5de51a",
   "metadata": {},
   "outputs": [],
   "source": [
    "import os\n",
    "import pandas as pd\n",
    "from sklearn.metrics import mean_squared_error, mean_absolute_error, r2_score\n",
    "from urllib.parse import urlparse\n",
    "import numpy as np\n",
    "import joblib"
   ]
  },
  {
   "cell_type": "code",
   "execution_count": 24,
   "id": "f60c3d27",
   "metadata": {},
   "outputs": [],
   "source": [
    "class ModelEvaluation:\n",
    "  def __init__(self, config: ModelEvaluationConfig):\n",
    "    self.config = config\n",
    "\n",
    "  def eval_metrics(self, actual, pred):\n",
    "    rmse = np.sqrt(mean_squared_error(actual,pred))\n",
    "    mae = mean_absolute_error(actual,pred)\n",
    "    r2 = r2_score(actual,pred)\n",
    "    return rmse, mae, r2\n",
    "  \n",
    "  def save_results(self):\n",
    "      test_data = pd.read_csv(self.config.test_data_path)\n",
    "      model = joblib.load(self.config.model_path)\n",
    "\n",
    "      test_x = test_data.drop([self.config.target_column], axis = 1)\n",
    "      test_y = test_data[[self.config.target_column]]\n",
    "\n",
    "      predicted_qualities = model.predict(test_x)\n",
    "\n",
    "      rmse, mae, r2 = self.eval_metrics(test_y, predicted_qualities)\n",
    "\n",
    "      #Saving metrics in local folder\n",
    "      scores = {\"rmse\": rmse, \"mae\": mae, \"r2\": r2}\n",
    "      save_json(path = Path(self.config.metric_file_name), data = scores)"
   ]
  },
  {
   "cell_type": "code",
   "execution_count": 25,
   "id": "8c38d6ad",
   "metadata": {},
   "outputs": [
    {
     "name": "stdout",
     "output_type": "stream",
     "text": [
      "[2025-06-11 10:04:57,310: INFO: common: yaml file: config\\config.yaml loaded successfully]\n",
      "[2025-06-11 10:04:57,311: INFO: common: yaml file: params.yaml loaded successfully]\n",
      "[2025-06-11 10:04:57,320: INFO: common: yaml file: schema.yaml loaded successfully]\n",
      "[2025-06-11 10:04:57,320: INFO: common: created directory at: artifacts]\n",
      "[2025-06-11 10:04:57,324: INFO: common: created directory at: artifacts/model_evaluation]\n",
      "[2025-06-11 10:04:57,349: INFO: common: json file saved at: artifacts\\model_evaluation\\metrics.json]\n"
     ]
    }
   ],
   "source": [
    "try:\n",
    "  config = ConfigurationManager()\n",
    "  model_evaluation_config = config.get_model_evaluation_config()\n",
    "  model_evaluation = ModelEvaluation(model_evaluation_config)\n",
    "  model_evaluation.save_results()\n",
    "except Exception as e:\n",
    "  raise e"
   ]
  },
  {
   "cell_type": "code",
   "execution_count": null,
   "id": "60585b2f",
   "metadata": {},
   "outputs": [],
   "source": []
  }
 ],
 "metadata": {
  "kernelspec": {
   "display_name": "mlproj",
   "language": "python",
   "name": "python3"
  },
  "language_info": {
   "codemirror_mode": {
    "name": "ipython",
    "version": 3
   },
   "file_extension": ".py",
   "mimetype": "text/x-python",
   "name": "python",
   "nbconvert_exporter": "python",
   "pygments_lexer": "ipython3",
   "version": "3.8.20"
  }
 },
 "nbformat": 4,
 "nbformat_minor": 5
}
