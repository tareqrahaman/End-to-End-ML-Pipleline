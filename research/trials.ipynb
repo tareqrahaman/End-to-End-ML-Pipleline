{
 "cells": [
  {
   "cell_type": "code",
   "execution_count": null,
   "id": "2586d3bf",
   "metadata": {},
   "outputs": [],
   "source": [
    "from ensure import ensure_annotations\n",
    "from box import ConfigBox"
   ]
  },
  {
   "cell_type": "code",
   "execution_count": 7,
   "id": "495ad21c",
   "metadata": {},
   "outputs": [
    {
     "data": {
      "text/plain": [
       "35"
      ]
     },
     "execution_count": 7,
     "metadata": {},
     "output_type": "execute_result"
    }
   ],
   "source": [
    "@ensure_annotations\n",
    "def multiply(x: int, y: int) -> int:\n",
    "  return x * y\n",
    "\n",
    "multiply(5,7)"
   ]
  },
  {
   "cell_type": "code",
   "execution_count": 20,
   "id": "384489a7",
   "metadata": {},
   "outputs": [
    {
     "name": "stdout",
     "output_type": "stream",
     "text": [
      "green\n"
     ]
    },
    {
     "data": {
      "text/plain": [
       "2023"
      ]
     },
     "execution_count": 20,
     "metadata": {},
     "output_type": "execute_result"
    }
   ],
   "source": [
    "car_dict = {\"model\": \"Lamborgini\",\n",
    "            \"color\": \"green\",\n",
    "            \"year\": 2023}\n",
    "config_car = ConfigBox(car_dict)\n",
    "print(config_car.color)\n",
    "config_car[\"year\"]"
   ]
  },
  {
   "cell_type": "code",
   "execution_count": null,
   "id": "61ca8ee1",
   "metadata": {},
   "outputs": [],
   "source": []
  }
 ],
 "metadata": {
  "kernelspec": {
   "display_name": "mlproj",
   "language": "python",
   "name": "python3"
  },
  "language_info": {
   "codemirror_mode": {
    "name": "ipython",
    "version": 3
   },
   "file_extension": ".py",
   "mimetype": "text/x-python",
   "name": "python",
   "nbconvert_exporter": "python",
   "pygments_lexer": "ipython3",
   "version": "3.8.20"
  }
 },
 "nbformat": 4,
 "nbformat_minor": 5
}
