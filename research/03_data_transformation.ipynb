{
 "cells": [
  {
   "cell_type": "code",
   "execution_count": 14,
   "id": "9452bc0a",
   "metadata": {},
   "outputs": [],
   "source": [
    "import os"
   ]
  },
  {
   "cell_type": "code",
   "execution_count": 15,
   "id": "b4aaff94",
   "metadata": {},
   "outputs": [
    {
     "data": {
      "text/plain": [
       "'d:\\\\documents\\\\Code\\\\Python\\\\End-to-End-ML-Pipleline'"
      ]
     },
     "execution_count": 15,
     "metadata": {},
     "output_type": "execute_result"
    }
   ],
   "source": [
    "%pwd"
   ]
  },
  {
   "cell_type": "code",
   "execution_count": 5,
   "id": "83bfa1f7",
   "metadata": {},
   "outputs": [],
   "source": [
    "os.chdir(\"../\")"
   ]
  },
  {
   "cell_type": "code",
   "execution_count": 6,
   "id": "68a3e0a5",
   "metadata": {},
   "outputs": [
    {
     "data": {
      "text/plain": [
       "'d:\\\\documents\\\\Code\\\\Python\\\\End-to-End-ML-Pipleline'"
      ]
     },
     "execution_count": 6,
     "metadata": {},
     "output_type": "execute_result"
    }
   ],
   "source": [
    "%pwd"
   ]
  },
  {
   "cell_type": "code",
   "execution_count": 16,
   "id": "a1949a02",
   "metadata": {},
   "outputs": [],
   "source": [
    "from dataclasses import dataclass\n",
    "from pathlib import Path\n",
    "\n",
    "@dataclass(frozen=True)\n",
    "class DataTransformationConfig:\n",
    "  root_dir: Path\n",
    "  data_file: Path"
   ]
  },
  {
   "cell_type": "code",
   "execution_count": 17,
   "id": "9fc2d3ce",
   "metadata": {},
   "outputs": [],
   "source": [
    "from mlProject.constants import *\n",
    "from mlProject.utils.common import read_yaml, create_directories"
   ]
  },
  {
   "cell_type": "code",
   "execution_count": 18,
   "id": "5d78d9cb",
   "metadata": {},
   "outputs": [],
   "source": [
    "class ConfigurationManager:\n",
    "  def __init__(self,\n",
    "               config_file_path = CONFIG_FILE_PATH,\n",
    "               params_file_path = PARAMS_FILE_PATH,\n",
    "               schema_file_path = SCHEMA_FILE_PATH):\n",
    "    \n",
    "    self.config = read_yaml(config_file_path)\n",
    "    self.params = read_yaml(params_file_path)\n",
    "    self.schema = read_yaml(schema_file_path)\n",
    "\n",
    "    create_directories([self.config.artifacts_root])\n",
    "  \n",
    "  def get_data_transformation_configuration(self) -> DataTransformationConfig:\n",
    "    config = self.config.data_transformation\n",
    "    create_directories([config.root_dir])\n",
    "\n",
    "    data_transformation = DataTransformationConfig(root_dir = config.root_dir, data_file = config.data_file)\n",
    "    return data_transformation\n"
   ]
  },
  {
   "cell_type": "code",
   "execution_count": 19,
   "id": "9ed615cd",
   "metadata": {},
   "outputs": [],
   "source": [
    "import os\n",
    "from mlProject import logger\n",
    "from sklearn.model_selection import train_test_split\n",
    "import pandas as pd"
   ]
  },
  {
   "cell_type": "code",
   "execution_count": 22,
   "id": "e4423858",
   "metadata": {},
   "outputs": [],
   "source": [
    "class DataTransformation:\n",
    "  def __init__(self, config: DataTransformationConfig):\n",
    "    self.config = config\n",
    "\n",
    "    ## Note: You can add different data transformation techniques such as Scaler, PCA and all\n",
    "    #You can perform all kinds of EDA in ML cycle here before passing this data to the model\n",
    "\n",
    "    # I am only adding train_test_spliting cz this data is already cleaned up\n",
    "\n",
    "  def train_test_spliting(self):\n",
    "    data = pd.read_csv(self.config.data_file)\n",
    "\n",
    "    #divides train = 0.75 and test = 0.25 \n",
    "    train, test = train_test_split(data)\n",
    "    train.to_csv(os.path.join(self.config.root_dir, \"train.csv\"), index = False)\n",
    "    test.to_csv(os.path.join(self.config.root_dir, \"test.csv\"), index = False)\n",
    "\n",
    "    logger.info(\"Splited data into training and test sets.\")\n",
    "    logger.info(f\"Train data shape: {train.shape}\")\n",
    "    logger.info(f\"Test data shape: {test.shape}\")\n",
    "\n",
    "    print(train.shape)\n",
    "    print(test.shape)\n"
   ]
  },
  {
   "cell_type": "code",
   "execution_count": 23,
   "id": "3359ec55",
   "metadata": {},
   "outputs": [
    {
     "name": "stdout",
     "output_type": "stream",
     "text": [
      "[2025-06-05 11:28:59,122: INFO: common: yaml file: config\\config.yaml loaded successfully]\n",
      "[2025-06-05 11:28:59,125: INFO: common: yaml file: params.yaml loaded successfully]\n",
      "[2025-06-05 11:28:59,128: INFO: common: yaml file: schema.yaml loaded successfully]\n",
      "[2025-06-05 11:28:59,131: INFO: common: created directory at: artifacts]\n",
      "[2025-06-05 11:28:59,132: INFO: common: created directory at: artifacts/data_transformation]\n",
      "[2025-06-05 11:28:59,174: INFO: 4102963237: Splited data into training and test sets.]\n",
      "[2025-06-05 11:28:59,175: INFO: 4102963237: Train data shape: (1199, 12)]\n",
      "[2025-06-05 11:28:59,178: INFO: 4102963237: Test data shape: (400, 12)]\n",
      "(1199, 12)\n",
      "(400, 12)\n"
     ]
    }
   ],
   "source": [
    "try:\n",
    "  data_config_manager = ConfigurationManager()\n",
    "  data_config = data_config_manager.get_data_transformation_configuration()\n",
    "  data_transformation = DataTransformation(data_config)\n",
    "  data_transformation.train_test_spliting()\n",
    "except Exception as e:\n",
    "  raise e"
   ]
  },
  {
   "cell_type": "code",
   "execution_count": null,
   "id": "9768cff1",
   "metadata": {},
   "outputs": [],
   "source": []
  }
 ],
 "metadata": {
  "kernelspec": {
   "display_name": "mlproj",
   "language": "python",
   "name": "python3"
  },
  "language_info": {
   "codemirror_mode": {
    "name": "ipython",
    "version": 3
   },
   "file_extension": ".py",
   "mimetype": "text/x-python",
   "name": "python",
   "nbconvert_exporter": "python",
   "pygments_lexer": "ipython3",
   "version": "3.8.20"
  }
 },
 "nbformat": 4,
 "nbformat_minor": 5
}
